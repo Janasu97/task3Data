{
 "cells": [
  {
   "cell_type": "code",
   "execution_count": 1,
   "metadata": {},
   "outputs": [],
   "source": [
    "import os\n",
    "import glob \n",
    "import numpy as np\n",
    "import pandas as pd\n",
    "import matplotlib.pyplot as plt\n",
    "import seaborn as sns\n",
    "import scipy as sp"
   ]
  },
  {
   "cell_type": "code",
   "execution_count": 40,
   "metadata": {},
   "outputs": [
    {
     "data": {
      "text/plain": [
       "Index(['M', 'F'], dtype='object')"
      ]
     },
     "execution_count": 40,
     "metadata": {},
     "output_type": "execute_result"
    }
   ],
   "source": [
    "life_expancy_data = pd.read_csv(\"./data_csv/cdc-life-expectancy.csv\", index_col=0)\n",
    "data.keys()"
   ]
  },
  {
   "cell_type": "code",
   "execution_count": 3,
   "metadata": {
    "scrolled": true
   },
   "outputs": [
    {
     "name": "stdout",
     "output_type": "stream",
     "text": [
      "              name sex  number  year\n",
      "0             Mary   F    7065  1880\n",
      "1             Anna   F    2604  1880\n",
      "2             Emma   F    2003  1880\n",
      "3        Elizabeth   F    1939  1880\n",
      "4           Minnie   F    1746  1880\n",
      "...            ...  ..     ...   ...\n",
      "1957041      Zylas   M       5  2018\n",
      "1957042      Zyran   M       5  2018\n",
      "1957043      Zyrie   M       5  2018\n",
      "1957044      Zyron   M       5  2018\n",
      "1957045      Zzyzx   M       5  2018\n",
      "\n",
      "[1957046 rows x 4 columns]\n"
     ]
    }
   ],
   "source": [
    "data_list = []\n",
    "all_data = pd.DataFrame()\n",
    "for f in glob.glob(\"./data_txt/*.txt\"):\n",
    "    df = pd.read_csv(f, sep=',', header=None)\n",
    "    df[\"year\"] = int(f[14:18])\n",
    "    all_data = all_data.append(df, ignore_index=True)\n",
    "\n",
    "all_data.columns = ([\"name\", \"sex\", \"number\", \"year\"])\n",
    "print(all_data)"
   ]
  },
  {
   "cell_type": "code",
   "execution_count": 7,
   "metadata": {},
   "outputs": [
    {
     "name": "stdout",
     "output_type": "stream",
     "text": [
      "           number\n",
      "name             \n",
      "Noah       180904\n",
      "Jacob      173195\n",
      "William    163811\n",
      "Liam       161558\n",
      "Ethan      157359\n",
      "...           ...\n",
      "Javere          5\n",
      "Thorbjorn       5\n",
      "Javez           5\n",
      "Dailey          5\n",
      "Sayhan          5\n",
      "\n",
      "[25604 rows x 1 columns]\n"
     ]
    },
    {
     "data": {
      "text/plain": [
       "'Noah'"
      ]
     },
     "execution_count": 7,
     "metadata": {},
     "output_type": "execute_result"
    }
   ],
   "source": [
    "#Most popular male name 2009-2018\n",
    "#wybrać np 20 najpopularniejszych imion i sprawdzić ile miejsc zajmują M/F\n",
    "#Sprawdzić różnorodność imion w sensie ile imion żeńskich ile męskich \n",
    "#i porównać to do ogólnej liczby urodzeń odpowiedniej płci\n",
    "data09_18 = all_data[all_data[\"year\"] <= 2018 ]\n",
    "data09_18 = data09_18[data09_18[\"year\"] >= 2009]\n",
    "data09_18 = data09_18.drop(columns = \"year\")\n",
    "#data09_18 = data09_18[data09_18[\"sex\"] == \"M\"]\n",
    "#data09_18 = data09_18.groupby(\"name\").sum()\n",
    "#data09_18.index[data09_18[\"number\"].argmax()]\n",
    "data09_18_M = data09_18[data09_18[\"sex\"] == \"M\"]\n",
    "data09_18_M = data09_18_M.groupby(\"name\").sum()\n",
    "data09_18_M = data09_18_M.sort_values(by='number', ascending=False)\n",
    "print(data09_18_M)\n",
    "data09_18_M.index[data09_18_M[\"number\"].argmax()]\n",
    "#data09_18.index[data09_18[\"number\"].argmax(), [\"sex\"] == \"M\"]"
   ]
  },
  {
   "cell_type": "code",
   "execution_count": 8,
   "metadata": {},
   "outputs": [
    {
     "name": "stdout",
     "output_type": "stream",
     "text": [
      "               number\n",
      "name                 \n",
      "Emma           195305\n",
      "Sophia         183930\n",
      "Olivia         183016\n",
      "Isabella       179015\n",
      "Ava            156852\n",
      "...               ...\n",
      "Naiima              5\n",
      "Aramide             5\n",
      "Elizabethanne       5\n",
      "Elizabel            5\n",
      "Kayleemarie         5\n",
      "\n",
      "[34967 rows x 1 columns]\n"
     ]
    },
    {
     "data": {
      "text/plain": [
       "'Emma'"
      ]
     },
     "execution_count": 8,
     "metadata": {},
     "output_type": "execute_result"
    }
   ],
   "source": [
    "#Most popular female name 2009-2018\n",
    "data09_18_F = data09_18[data09_18[\"sex\"] == \"F\"]\n",
    "data09_18_F = data09_18_F.groupby(\"name\").sum()\n",
    "data09_18_F = data09_18_F.sort_values(by='number', ascending=False)\n",
    "print(data09_18_F)\n",
    "data09_18_F.index[data09_18_F[\"number\"].argmax()]"
   ]
  },
  {
   "cell_type": "code",
   "execution_count": 20,
   "metadata": {},
   "outputs": [
    {
     "name": "stdout",
     "output_type": "stream",
     "text": [
      "Number of female names:  34967 and male names:  25604\n",
      "Total number of names in the years 2009-2018:  60571\n",
      "Total difference in number of F/M names:  9363\n"
     ]
    }
   ],
   "source": [
    "#Total number of names in years and diff between Male and Female names 2009-2018\n",
    "index_F = data09_18_F.index\n",
    "num_of_rows_F = len(index_F)\n",
    "index_M = data09_18_M.index\n",
    "num_of_rows_M = len(index_M)\n",
    "total_diff_of_names = num_of_rows_F - num_of_rows_M\n",
    "total_num_of_names = num_of_rows_F + num_of_rows_M\n",
    "print(\"Number of female names: \",num_of_rows_F, \"and male names: \", num_of_rows_M)\n",
    "print(\"Total number of names in the years 2009-2018: \", total_num_of_names)\n",
    "print(\"Total difference in number of F/M names: \", total_diff_of_names)"
   ]
  },
  {
   "cell_type": "code",
   "execution_count": 45,
   "metadata": {},
   "outputs": [
    {
     "name": "stdout",
     "output_type": "stream",
     "text": [
      "Total number of births in years 1990-2000\n",
      "       number\n",
      "sex          \n",
      "F    19816748\n",
      "M    21437454\n"
     ]
    }
   ],
   "source": [
    "data90_00 = all_data[all_data[\"year\"] <= 2000 ]\n",
    "data90_00 = data90_00[data90_00[\"year\"] >= 1990]\n",
    "data90_00 = data90_00.drop(columns = \"year\")\n",
    "data90_00 = data90_00.groupby(\"sex\").sum()\n",
    "print(\"Total number of births in years 1990-2000\")\n",
    "print(data90_00)"
   ]
  },
  {
   "cell_type": "code",
   "execution_count": 48,
   "metadata": {},
   "outputs": [
    {
     "name": "stdout",
     "output_type": "stream",
     "text": [
      "       number   M   F\n",
      "year                 \n",
      "1930  2223273  58  62\n",
      "1931  2104141  58  62\n",
      "1932  2111167  58  62\n",
      "1933  1999219  58  62\n",
      "1934  2076590  58  62\n",
      "...       ...  ..  ..\n",
      "2008  3927263  75  80\n",
      "2009  3816543  75  80\n",
      "2010  3691821  76  81\n",
      "2011  3653166  76  81\n",
      "2012  3652146  76  81\n",
      "\n",
      "[83 rows x 3 columns]\n"
     ]
    }
   ],
   "source": [
    "data2 = all_data.groupby(\"year\").sum()\n",
    "num_of_births = pd.merge(data2, life_expancy_data, on=['year'])\n",
    "print(num_of_births)"
   ]
  },
  {
   "cell_type": "code",
   "execution_count": null,
   "metadata": {},
   "outputs": [],
   "source": []
  },
  {
   "cell_type": "code",
   "execution_count": null,
   "metadata": {},
   "outputs": [],
   "source": []
  },
  {
   "cell_type": "code",
   "execution_count": 25,
   "metadata": {},
   "outputs": [
    {
     "name": "stdout",
     "output_type": "stream",
     "text": [
      "          name sex  number  year\n",
      "902176   Jakub   M       5  1981\n",
      "939669   Jakub   M       7  1983\n",
      "999345   Jakub   M       8  1986\n",
      "1021806  Jakub   M       6  1987\n",
      "1041976  Jakub   M      10  1988\n",
      "1088963  Jakub   M      14  1990\n",
      "1114752  Jakub   M      11  1991\n",
      "1137430  Jakub   M      32  1992\n",
      "1162946  Jakub   M      35  1993\n",
      "1188546  Jakub   M      44  1994\n",
      "1214485  Jakub   M      47  1995\n",
      "1240649  Jakub   M      51  1996\n",
      "1267103  Jakub   M      66  1997\n",
      "1294306  Jakub   M      88  1998\n",
      "1322736  Jakub   M      73  1999\n",
      "1352033  Jakub   M      76  2000\n",
      "1381701  Jakub   M     121  2001\n",
      "1412081  Jakub   M     125  2002\n",
      "1443057  Jakub   M     122  2003\n",
      "1474492  Jakub   M     151  2004\n",
      "1507016  Jakub   M     135  2005\n",
      "1540322  Jakub   M     168  2006\n",
      "1574929  Jakub   M     174  2007\n",
      "1609748  Jakub   M     184  2008\n",
      "1644748  Jakub   M     145  2009\n",
      "1679063  Jakub   M     147  2010\n",
      "1713187  Jakub   M     106  2011\n",
      "1747044  Jakub   M     106  2012\n",
      "1780601  Jakub   M      97  2013\n",
      "1813872  Jakub   M      95  2014\n",
      "1847077  Jakub   M      92  2015\n",
      "1880138  Jakub   M      78  2016\n",
      "1912696  Jakub   M      76  2017\n",
      "1945322  Jakub   M      59  2018\n",
      "          name sex  number  year\n",
      "1267103  Jakub   M      66  1997\n"
     ]
    }
   ],
   "source": [
    "Jakub = all_data[all_data[\"name\"] == \"Jakub\"]\n",
    "print(Jakub)\n",
    "Jakub = Jakub[Jakub[\"year\"] == 1997]\n",
    "print(Jakub)"
   ]
  },
  {
   "cell_type": "code",
   "execution_count": 26,
   "metadata": {},
   "outputs": [
    {
     "name": "stdout",
     "output_type": "stream",
     "text": [
      "           name sex  number  year\n",
      "98358    Michal   M       5  1911\n",
      "104066   Michal   M       7  1912\n",
      "111604   Michal   M       5  1913\n",
      "118176   Michal   M      10  1914\n",
      "128384   Michal   M       6  1915\n",
      "...         ...  ..     ...   ...\n",
      "1882814  Michal   M      22  2016\n",
      "1895690  Michal   F      49  2017\n",
      "1917746  Michal   M      12  2017\n",
      "1929038  Michal   F      36  2018\n",
      "1948706  Michal   M      16  2018\n",
      "\n",
      "[175 rows x 4 columns]\n",
      "           name sex  number  year\n",
      "1251534  Michal   F      65  1997\n",
      "1267245  Michal   M      58  1997\n"
     ]
    }
   ],
   "source": [
    "Michal = all_data[all_data[\"name\"] == \"Michal\"]\n",
    "print(Michal)\n",
    "Michal = Michal[Michal[\"year\"] == 1997]\n",
    "print(Michal)"
   ]
  },
  {
   "cell_type": "code",
   "execution_count": 27,
   "metadata": {},
   "outputs": [
    {
     "name": "stdout",
     "output_type": "stream",
     "text": [
      "          name sex  number  year\n",
      "1292956  Jacob   M   36016  1998\n",
      "1321201  Jacob   M   35363  1999\n",
      "1350465  Jacob   M   34477  2000\n",
      "1265546  Jacob   M   34153  1997\n",
      "1380555  Jacob   M   32545  2001\n",
      "...        ...  ..     ...   ...\n",
      "143696   Jacob   F       5  1917\n",
      "153863   Jacob   F       5  1918\n",
      "174778   Jacob   F       5  1920\n",
      "185690   Jacob   F       5  1921\n",
      "720224   Jacob   F       5  1971\n",
      "\n",
      "[199 rows x 4 columns]\n"
     ]
    }
   ],
   "source": [
    "Jacob = all_data[all_data[\"name\"] == \"Jacob\"]\n",
    "Jacob = Jacob.sort_values(by=\"number\", ascending=False)\n",
    "print(Jacob)"
   ]
  },
  {
   "cell_type": "code",
   "execution_count": 28,
   "metadata": {},
   "outputs": [],
   "source": [
    "#Year that this name become almost strictly male name"
   ]
  },
  {
   "cell_type": "code",
   "execution_count": 29,
   "metadata": {},
   "outputs": [
    {
     "data": {
      "text/plain": [
       "<matplotlib.axes._subplots.AxesSubplot at 0x1fc60d59bc8>"
      ]
     },
     "execution_count": 29,
     "metadata": {},
     "output_type": "execute_result"
    },
    {
     "data": {
      "image/png": "[encoded data removed]",
      "text/plain": [
       "<Figure size 432x288 with 1 Axes>"
      ]
     },
     "metadata": {
      "needs_background": "light"
     },
     "output_type": "display_data"
    }
   ],
   "source": [
    "sns.scatterplot(x=\"year\",y=\"number\",data=Jacob)"
   ]
  },
  {
   "cell_type": "code",
   "execution_count": null,
   "metadata": {},
   "outputs": [],
   "source": []
  },
  {
   "cell_type": "code",
   "execution_count": null,
   "metadata": {},
   "outputs": [],
   "source": []
  },
  {
   "cell_type": "code",
   "execution_count": null,
   "metadata": {},
   "outputs": [],
   "source": []
  },
  {
   "cell_type": "code",
   "execution_count": null,
   "metadata": {},
   "outputs": [],
   "source": []
  },
  {
   "cell_type": "code",
   "execution_count": 30,
   "metadata": {},
   "outputs": [
    {
     "name": "stdout",
     "output_type": "stream",
     "text": [
      "           name sex  number  year\n",
      "544630  Michael   M   92704  1957\n",
      "533165  Michael   M   90656  1956\n",
      "556204  Michael   M   90517  1958\n",
      "510812  Michael   M   88528  1954\n",
      "521887  Michael   M   88327  1955\n",
      "...         ...  ..     ...   ...\n",
      "100725  Michael   F       8  1912\n",
      "44276   Michael   F       7  1897\n",
      "95684   Michael   F       7  1911\n",
      "86612   Michael   F       7  1909\n",
      "75248   Michael   F       5  1906\n",
      "\n",
      "[251 rows x 4 columns]\n"
     ]
    }
   ],
   "source": [
    "#Funfact: Michael Jackson was born in 1958 in the top years of these name\n",
    "Michael = all_data[all_data[\"name\"] == \"Michael\"]\n",
    "Michael = Michael.sort_values(by=\"number\", ascending=False)\n",
    "print(Michael)"
   ]
  },
  {
   "cell_type": "code",
   "execution_count": 31,
   "metadata": {},
   "outputs": [],
   "source": [
    "#Year that this name become almost strictly male name"
   ]
  },
  {
   "cell_type": "code",
   "execution_count": 32,
   "metadata": {},
   "outputs": [
    {
     "data": {
      "text/plain": [
       "<matplotlib.axes._subplots.AxesSubplot at 0x1fc67a42c88>"
      ]
     },
     "execution_count": 32,
     "metadata": {},
     "output_type": "execute_result"
    },
    {
     "data": {
      "image/png": "[encoded data removed]",
      "text/plain": [
       "<Figure size 432x288 with 1 Axes>"
      ]
     },
     "metadata": {
      "needs_background": "light"
     },
     "output_type": "display_data"
    }
   ],
   "source": [
    "sns.scatterplot(x=\"year\",y=\"number\",data=Michael)"
   ]
  },
  {
   "cell_type": "code",
   "execution_count": 35,
   "metadata": {},
   "outputs": [
    {
     "name": "stdout",
     "output_type": "stream",
     "text": [
      "[       number\n",
      "name         \n",
      "Jacob  933726,           number\n",
      "name            \n",
      "Michael  4384463]\n"
     ]
    }
   ],
   "source": [
    "#Difference between popularity of both names\n",
    "#Może dodamy wykres z tymi imionami na osi czasu?\n",
    "Jacobsum = Jacob.drop(columns = \"year\")\n",
    "Jacobsum = Jacobsum.groupby(\"name\").sum()\n",
    "Michaelsum = Michael.drop(columns = \"year\")\n",
    "Michaelsum = Michaelsum.groupby(\"name\").sum()\n",
    "print([Jacobsum, Michaelsum])"
   ]
  },
  {
   "cell_type": "code",
   "execution_count": null,
   "metadata": {},
   "outputs": [],
   "source": [
    "#Fajnie jakby dodać oba imiona na jednym wykresie"
   ]
  }
 ],
 "metadata": {
  "kernelspec": {
   "display_name": "Python 3",
   "language": "python",
   "name": "python3"
  },
  "language_info": {
   "codemirror_mode": {
    "name": "ipython",
    "version": 3
   },
   "file_extension": ".py",
   "mimetype": "text/x-python",
   "name": "python",
   "nbconvert_exporter": "python",
   "pygments_lexer": "ipython3",
   "version": "3.7.6"
  }
 },
 "nbformat": 4,
 "nbformat_minor": 4
}
