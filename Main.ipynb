{
 "cells": [
  {
   "cell_type": "code",
   "execution_count": 3,
   "metadata": {},
   "outputs": [],
   "source": [
    "import os\n",
    "import glob \n",
    "import numpy as np\n",
    "import pandas as pd\n",
    "import matplotlib.pyplot as plt\n",
    "import seaborn as sns\n",
    "import scipy as sp"
   ]
  },
  {
   "cell_type": "code",
   "execution_count": 25,
   "metadata": {},
   "outputs": [
    {
     "data": {
      "text/plain": [
       "Index(['M', 'F'], dtype='object')"
      ]
     },
     "execution_count": 25,
     "metadata": {},
     "output_type": "execute_result"
    }
   ],
   "source": [
    "life_expancy_data = pd.read_csv(\"./data_csv/cdc-life-expectancy.csv\", index_col=0)\n",
    "life_expancy_data.keys()"
   ]
  },
  {
   "cell_type": "code",
   "execution_count": 5,
   "metadata": {
    "scrolled": true
   },
   "outputs": [
    {
     "name": "stdout",
     "output_type": "stream",
     "text": [
      "              name sex  number  year\n",
      "0             Mary   F    7065  1880\n",
      "1             Anna   F    2604  1880\n",
      "2             Emma   F    2003  1880\n",
      "3        Elizabeth   F    1939  1880\n",
      "4           Minnie   F    1746  1880\n",
      "...            ...  ..     ...   ...\n",
      "1957041      Zylas   M       5  2018\n",
      "1957042      Zyran   M       5  2018\n",
      "1957043      Zyrie   M       5  2018\n",
      "1957044      Zyron   M       5  2018\n",
      "1957045      Zzyzx   M       5  2018\n",
      "\n",
      "[1957046 rows x 4 columns]\n"
     ]
    }
   ],
   "source": [
    "data_list = []\n",
    "all_data = pd.DataFrame()\n",
    "for f in glob.glob(\"./data_txt/*.txt\"):\n",
    "    df = pd.read_csv(f, sep=',', header=None)\n",
    "    df[\"year\"] = int(f[14:18])\n",
    "    all_data = all_data.append(df, ignore_index=True)\n",
    "\n",
    "all_data.columns = ([\"name\", \"sex\", \"number\", \"year\"])\n",
    "print(all_data)"
   ]
  },
  {
   "cell_type": "code",
   "execution_count": 6,
   "metadata": {},
   "outputs": [
    {
     "name": "stdout",
     "output_type": "stream",
     "text": [
      "          number\n",
      "name            \n",
      "James    5187679\n",
      "John     5146508\n",
      "Robert   4840228\n",
      "Michael  4384463\n",
      "Mary     4140840\n",
      "William  4133327\n",
      "David    3634229\n",
      "Joseph   2623958\n",
      "Richard  2574832\n",
      "Charles  2405197\n"
     ]
    }
   ],
   "source": [
    "#Only one female name in ten most popular names from all dataset\n",
    "#Michael on 4 place\n",
    "most_pop_name_all = all_data\n",
    "most_pop_name_all = most_pop_name_all.drop(columns = \"year\")\n",
    "most_pop_name_all = most_pop_name_all.groupby(\"name\").sum()\n",
    "most_pop_name_all = most_pop_name_all.sort_values(by='number', ascending=False)\n",
    "print(most_pop_name_all.head(10))"
   ]
  },
  {
   "cell_type": "code",
   "execution_count": 7,
   "metadata": {},
   "outputs": [
    {
     "name": "stdout",
     "output_type": "stream",
     "text": [
      "           number\n",
      "name             \n",
      "Noah       180904\n",
      "Jacob      173195\n",
      "William    163811\n",
      "Liam       161558\n",
      "Ethan      157359\n",
      "Mason      156764\n",
      "Michael    152983\n",
      "Alexander  148711\n",
      "Daniel     140504\n",
      "James      140268\n",
      "Elijah     135979\n",
      "Aiden      135955\n",
      "Jayden     135067\n",
      "Benjamin   134249\n",
      "Matthew    131472\n",
      "Logan      130472\n",
      "David      122765\n",
      "Joseph     121045\n",
      "Anthony    120451\n",
      "Jackson    117903\n"
     ]
    },
    {
     "data": {
      "text/plain": [
       "'Noah'"
      ]
     },
     "execution_count": 7,
     "metadata": {},
     "output_type": "execute_result"
    }
   ],
   "source": [
    "#Most popular male name 2009-2018 is Noah\n",
    "#Jacob second most popular name from 2009-2018. Michael on seventh place\n",
    "data09_18 = all_data[all_data[\"year\"] <= 2018 ]\n",
    "data09_18 = data09_18[data09_18[\"year\"] >= 2009]\n",
    "data09_18 = data09_18.drop(columns = \"year\")\n",
    "data09_18_M = data09_18[data09_18[\"sex\"] == \"M\"]\n",
    "data09_18_M = data09_18_M.groupby(\"name\").sum()\n",
    "data09_18_M = data09_18_M.sort_values(by='number', ascending=False)\n",
    "print(data09_18_M.head(20))\n",
    "data09_18_M.index[data09_18_M[\"number\"].argmax()]"
   ]
  },
  {
   "cell_type": "code",
   "execution_count": 8,
   "metadata": {},
   "outputs": [
    {
     "name": "stdout",
     "output_type": "stream",
     "text": [
      "           number\n",
      "name             \n",
      "Emma       195305\n",
      "Sophia     183930\n",
      "Olivia     183016\n",
      "Isabella   179015\n",
      "Ava        156852\n",
      "Mia        127727\n",
      "Emily      124501\n",
      "Abigail    123643\n",
      "Madison    107153\n",
      "Elizabeth   96867\n",
      "Charlotte   93231\n",
      "Chloe       90602\n",
      "Ella        87235\n",
      "Amelia      85365\n",
      "Evelyn      81972\n",
      "Avery       81736\n",
      "Sofia       80575\n",
      "Addison     77043\n",
      "Harper      76441\n",
      "Grace       75040\n"
     ]
    },
    {
     "data": {
      "text/plain": [
       "'Emma'"
      ]
     },
     "execution_count": 8,
     "metadata": {},
     "output_type": "execute_result"
    }
   ],
   "source": [
    "#Most popular female name 2009-2018 is Emma\n",
    "#Sophia and Sofia are similar names. If merged into one it would be the \n",
    "#most popular name in these years\n",
    "data09_18_F = data09_18[data09_18[\"sex\"] == \"F\"]\n",
    "data09_18_F = data09_18_F.groupby(\"name\").sum()\n",
    "data09_18_F = data09_18_F.sort_values(by='number', ascending=False)\n",
    "print(data09_18_F.head(20))\n",
    "data09_18_F.index[data09_18_F[\"number\"].argmax()]"
   ]
  },
  {
   "cell_type": "code",
   "execution_count": 10,
   "metadata": {},
   "outputs": [
    {
     "name": "stdout",
     "output_type": "stream",
     "text": [
      "Number of female names:  34967 and male names:  25604\n",
      "Total number of names in the years 2009-2018:  60571\n",
      "Total difference in number of F/M names:  9363\n"
     ]
    }
   ],
   "source": [
    "#Total number of names in years and diff between Male and Female names 2009-2018\n",
    "index_F = data09_18_F.index\n",
    "num_of_rows_F = len(index_F)\n",
    "index_M = data09_18_M.index\n",
    "num_of_rows_M = len(index_M)\n",
    "total_diff_of_names = num_of_rows_F - num_of_rows_M\n",
    "total_num_of_names = num_of_rows_F + num_of_rows_M\n",
    "print(\"Number of female names: \",num_of_rows_F, \"and male names: \", num_of_rows_M)\n",
    "print(\"Total number of names in the years 2009-2018: \", total_num_of_names)\n",
    "print(\"Total difference in number of F/M names: \", total_diff_of_names)"
   ]
  },
  {
   "cell_type": "code",
   "execution_count": 11,
   "metadata": {},
   "outputs": [
    {
     "data": {
      "text/plain": [
       "<matplotlib.axes._subplots.AxesSubplot at 0x21892fb7c88>"
      ]
     },
     "execution_count": 11,
     "metadata": {},
     "output_type": "execute_result"
    },
    {
     "data": {
      "image/png": "[encoded data removed]",
      "text/plain": [
       "<Figure size 432x288 with 1 Axes>"
      ]
     },
     "metadata": {
      "needs_background": "light"
     },
     "output_type": "display_data"
    }
   ],
   "source": [
    "#Girls and boys born between 1990 and 2000\n",
    "data90_00 = all_data[all_data[\"year\"] <= 2000 ]\n",
    "data90_00 = data90_00[data90_00[\"year\"] >= 1990]\n",
    "data90_00.groupby('year').number.sum().plot(kind='bar')"
   ]
  },
  {
   "cell_type": "code",
   "execution_count": 12,
   "metadata": {},
   "outputs": [
    {
     "name": "stdout",
     "output_type": "stream",
     "text": [
      "Total number of births in years 1990-2000\n",
      "       number\n",
      "sex          \n",
      "F    19816748\n",
      "M    21437454\n"
     ]
    }
   ],
   "source": [
    "data90_00 = data90_00.drop(columns = \"year\")\n",
    "data90_00 = data90_00.groupby(\"sex\").sum()\n",
    "print(\"Total number of births in years 1990-2000\")\n",
    "print(data90_00)"
   ]
  },
  {
   "cell_type": "code",
   "execution_count": 13,
   "metadata": {},
   "outputs": [
    {
     "name": "stdout",
     "output_type": "stream",
     "text": [
      "Female birth over the years: \n",
      "       number\n",
      "year         \n",
      "1957  2044311\n",
      "1959  2023035\n",
      "1960  2022010\n",
      "1961  2017637\n",
      "1958  2010963\n",
      "...       ...\n",
      "1884   129019\n",
      "1883   112319\n",
      "1882   107847\n",
      "1881    91953\n",
      "1880    90994\n",
      "\n",
      "[139 rows x 1 columns]\n",
      "Male birth over the years: \n",
      "       number\n",
      "year         \n",
      "1957  2155711\n",
      "1959  2133306\n",
      "1960  2132155\n",
      "1961  2122664\n",
      "1958  2120611\n",
      "...       ...\n",
      "1899   106210\n",
      "1883   104625\n",
      "1887   101412\n",
      "1891   101191\n",
      "1881   100743\n",
      "\n",
      "[139 rows x 1 columns]\n"
     ]
    },
    {
     "data": {
      "image/png": "[encoded data removed]",
      "text/plain": [
       "<Figure size 432x288 with 1 Axes>"
      ]
     },
     "metadata": {
      "needs_background": "light"
     },
     "output_type": "display_data"
    }
   ],
   "source": [
    "#Number of children born in all years\n",
    "dataF = all_data[all_data[\"sex\"] == \"F\"]\n",
    "dataF.groupby('year').number.sum().plot(kind='line', legend = True, title = \"M/F births across the years\")\n",
    "dataM = all_data[all_data[\"sex\"] == \"M\"]\n",
    "dataM.groupby('year').number.sum().plot(kind='line', legend = True)\n",
    "#dataF = dataF.groupby([\"year\", \"sex\"])\n",
    "#print(dataF.get_group((1997, \"F\")))\n",
    "#print(dataF.get_group((1997, \"M\")))\n",
    "#num_of_births_F = pd.merge(dataF.get_group((1997, \"F\")), dataF.get_group((1997, \"M\")), on=['year'])\n",
    "# print(dataF.get_group(1880).groupby(\"sex\").get_group(\"F\"))\n",
    "dataF = dataF.groupby(\"year\").sum()\n",
    "dataF = dataF.sort_values(by=\"number\", ascending = False)\n",
    "dataM = dataM.groupby(\"year\").sum()\n",
    "dataM = dataM.sort_values(by=\"number\", ascending = False)\n",
    "print(\"Female birth over the years: \")\n",
    "print(dataF)\n",
    "print(\"Male birth over the years: \")\n",
    "print(dataM)\n",
    "#increase in child births after both wars\n",
    "#Baby boom 60's"
   ]
  },
  {
   "cell_type": "code",
   "execution_count": 14,
   "metadata": {},
   "outputs": [
    {
     "name": "stdout",
     "output_type": "stream",
     "text": [
      "10 highest life expancies for Females\n",
      "       F\n",
      "year    \n",
      "2012  81\n",
      "2010  81\n",
      "2011  81\n",
      "2005  80\n",
      "2008  80\n",
      "2004  80\n",
      "2009  80\n",
      "2006  80\n",
      "2007  80\n",
      "1998  80\n",
      "10 lowest life expancies for Females\n",
      "       F\n",
      "year    \n",
      "1938  64\n",
      "1939  64\n",
      "1937  64\n",
      "1935  64\n",
      "1936  64\n",
      "1930  62\n",
      "1932  62\n",
      "1931  62\n",
      "1934  62\n",
      "1933  62\n"
     ]
    }
   ],
   "source": [
    "num_of_births_F = pd.merge(dataF, life_expancy_data, on=['year'])\n",
    "num_of_births_F = num_of_births_F.drop(columns=\"M\")\n",
    "num_of_births_F = num_of_births_F.drop(columns=\"number\")\n",
    "num_of_births_F = num_of_births_F.sort_values(by=\"F\", ascending=False)\n",
    "print(\"10 highest life expancies for Females\")\n",
    "print(num_of_births_F.head(10))\n",
    "print(\"10 lowest life expancies for Females\")\n",
    "print(num_of_births_F.tail(10))"
   ]
  },
  {
   "cell_type": "code",
   "execution_count": 32,
   "metadata": {},
   "outputs": [
    {
     "name": "stdout",
     "output_type": "stream",
     "text": [
      "10 highest life expancies for Males\n",
      "       M\n",
      "year    \n",
      "2012  76\n",
      "2011  76\n",
      "2010  76\n",
      "2003  75\n",
      "2005  75\n",
      "2007  75\n",
      "2006  75\n",
      "2002  75\n",
      "2008  75\n",
      "2009  75\n",
      "10 lowest life expancies for Males\n",
      "       M\n",
      "year    \n",
      "1938  60\n",
      "1939  60\n",
      "1937  60\n",
      "1935  60\n",
      "1936  60\n",
      "1930  58\n",
      "1932  58\n",
      "1931  58\n",
      "1934  58\n",
      "1933  58\n"
     ]
    }
   ],
   "source": [
    "num_of_births_M = pd.merge(dataM, life_expancy_data, on=['year'])\n",
    "num_of_births_M = num_of_births_M.drop(columns=\"F\")\n",
    "num_of_births_M = num_of_births_M.drop(columns=\"number\")\n",
    "num_of_births_M = num_of_births_M.sort_values(by=\"M\", ascending=False)\n",
    "print(\"10 highest life expancies for Males\")\n",
    "print(num_of_births_M.head(10))\n",
    "print(\"10 lowest life expancies for Males\")\n",
    "print(num_of_births_M.tail(10))"
   ]
  },
  {
   "cell_type": "code",
   "execution_count": 16,
   "metadata": {},
   "outputs": [
    {
     "data": {
      "text/plain": [
       "<matplotlib.axes._subplots.AxesSubplot at 0x21895d54e88>"
      ]
     },
     "execution_count": 16,
     "metadata": {},
     "output_type": "execute_result"
    },
    {
     "data": {
      "image/png": "[encoded data removed]",
      "text/plain": [
       "<Figure size 432x288 with 1 Axes>"
      ]
     },
     "metadata": {
      "needs_background": "light"
     },
     "output_type": "display_data"
    },
    {
     "data": {
      "image/png": "[encoded data removed]",
      "text/plain": [
       "<Figure size 432x288 with 1 Axes>"
      ]
     },
     "metadata": {
      "needs_background": "light"
     },
     "output_type": "display_data"
    },
    {
     "data": {
      "image/png": "[encoded data removed]",
      "text/plain": [
       "<Figure size 432x288 with 1 Axes>"
      ]
     },
     "metadata": {
      "needs_background": "light"
     },
     "output_type": "display_data"
    },
    {
     "data": {
      "image/png": "[encoded data removed]",
      "text/plain": [
       "<Figure size 432x288 with 1 Axes>"
      ]
     },
     "metadata": {
      "needs_background": "light"
     },
     "output_type": "display_data"
    }
   ],
   "source": [
    "num_of_births_F.plot(kind='hist')\n",
    "num_of_births_M.plot(kind='hist')\n",
    "num_of_births_M.plot(kind='line')\n",
    "num_of_births_F.plot(kind='line')"
   ]
  },
  {
   "cell_type": "code",
   "execution_count": null,
   "metadata": {},
   "outputs": [],
   "source": []
  },
  {
   "cell_type": "code",
   "execution_count": 17,
   "metadata": {},
   "outputs": [
    {
     "name": "stdout",
     "output_type": "stream",
     "text": [
      "          name sex  number  year\n",
      "902176   Jakub   M       5  1981\n",
      "939669   Jakub   M       7  1983\n",
      "999345   Jakub   M       8  1986\n",
      "1021806  Jakub   M       6  1987\n",
      "1041976  Jakub   M      10  1988\n",
      "1088963  Jakub   M      14  1990\n",
      "1114752  Jakub   M      11  1991\n",
      "1137430  Jakub   M      32  1992\n",
      "1162946  Jakub   M      35  1993\n",
      "1188546  Jakub   M      44  1994\n",
      "1214485  Jakub   M      47  1995\n",
      "1240649  Jakub   M      51  1996\n",
      "1267103  Jakub   M      66  1997\n",
      "1294306  Jakub   M      88  1998\n",
      "1322736  Jakub   M      73  1999\n",
      "1352033  Jakub   M      76  2000\n",
      "1381701  Jakub   M     121  2001\n",
      "1412081  Jakub   M     125  2002\n",
      "1443057  Jakub   M     122  2003\n",
      "1474492  Jakub   M     151  2004\n",
      "1507016  Jakub   M     135  2005\n",
      "1540322  Jakub   M     168  2006\n",
      "1574929  Jakub   M     174  2007\n",
      "1609748  Jakub   M     184  2008\n",
      "1644748  Jakub   M     145  2009\n",
      "1679063  Jakub   M     147  2010\n",
      "1713187  Jakub   M     106  2011\n",
      "1747044  Jakub   M     106  2012\n",
      "1780601  Jakub   M      97  2013\n",
      "1813872  Jakub   M      95  2014\n",
      "1847077  Jakub   M      92  2015\n",
      "1880138  Jakub   M      78  2016\n",
      "1912696  Jakub   M      76  2017\n",
      "1945322  Jakub   M      59  2018\n",
      "          name sex  number  year\n",
      "1267103  Jakub   M      66  1997\n"
     ]
    }
   ],
   "source": [
    "Jakub = all_data[all_data[\"name\"] == \"Jakub\"]\n",
    "print(Jakub)\n",
    "Jakub = Jakub[Jakub[\"year\"] == 1997]\n",
    "print(Jakub)"
   ]
  },
  {
   "cell_type": "code",
   "execution_count": 18,
   "metadata": {
    "scrolled": true
   },
   "outputs": [
    {
     "name": "stdout",
     "output_type": "stream",
     "text": [
      "           name sex  number  year\n",
      "98358    Michal   M       5  1911\n",
      "104066   Michal   M       7  1912\n",
      "111604   Michal   M       5  1913\n",
      "118176   Michal   M      10  1914\n",
      "128384   Michal   M       6  1915\n",
      "...         ...  ..     ...   ...\n",
      "1882814  Michal   M      22  2016\n",
      "1895690  Michal   F      49  2017\n",
      "1917746  Michal   M      12  2017\n",
      "1929038  Michal   F      36  2018\n",
      "1948706  Michal   M      16  2018\n",
      "\n",
      "[175 rows x 4 columns]\n",
      "           name sex  number  year\n",
      "1267245  Michal   M      58  1997\n"
     ]
    }
   ],
   "source": [
    "Michal = all_data[all_data[\"name\"] == \"Michal\"]\n",
    "print(Michal)\n",
    "Michal = Michal[Michal[\"year\"] == 1997]\n",
    "Michal = Michal[Michal[\"sex\"] == \"M\"]\n",
    "print(Michal)"
   ]
  },
  {
   "cell_type": "code",
   "execution_count": 19,
   "metadata": {},
   "outputs": [
    {
     "name": "stdout",
     "output_type": "stream",
     "text": [
      "          name sex  number  year\n",
      "1292956  Jacob   M   36016  1998\n",
      "1321201  Jacob   M   35363  1999\n",
      "1350465  Jacob   M   34477  2000\n",
      "1265546  Jacob   M   34153  1997\n",
      "1380555  Jacob   M   32545  2001\n",
      "1238856  Jacob   M   31925  1996\n",
      "1212639  Jacob   M   31129  1995\n",
      "1410938  Jacob   M   30574  2002\n",
      "1441851  Jacob   M   29638  2003\n",
      "1186644  Jacob   M   29412  1994\n",
      "1473433  Jacob   M   27881  2004\n",
      "1160725  Jacob   M   27484  1993\n",
      "1505836  Jacob   M   25833  2005\n",
      "1135118  Jacob   M   25661  1992\n",
      "1109862  Jacob   M   25193  1991\n",
      "1539255  Jacob   M   24845  2006\n",
      "1573858  Jacob   M   24282  2007\n",
      "1608715  Jacob   M   22594  2008\n",
      "1677854  Jacob   M   22127  2010\n",
      "1084919  Jacob   M   22009  1990\n",
      "      name sex  number  year\n",
      "980  Jacob   M     404  1880\n"
     ]
    }
   ],
   "source": [
    "#Highest popularity in the end of millenium\n",
    "Jacob = all_data[all_data[\"name\"] == \"Jacob\"]\n",
    "JacobF = Jacob[Jacob[\"sex\"] ==\"F\"]\n",
    "JacobM = Jacob[Jacob[\"sex\"] == \"M\"]\n",
    "Jacob = Jacob.sort_values(by=\"number\", ascending=False)\n",
    "print(Jacob.head(20))\n",
    "#First use of the name Jacob in this dataset\n",
    "Jacob_first_use = Jacob.sort_values(by=\"year\", ascending=True)\n",
    "print(Jacob_first_use.head(1))"
   ]
  },
  {
   "cell_type": "code",
   "execution_count": 20,
   "metadata": {},
   "outputs": [
    {
     "name": "stdout",
     "output_type": "stream",
     "text": [
      "           name sex  number  year\n",
      "544630  Michael   M   92704  1957\n",
      "533165  Michael   M   90656  1956\n",
      "556204  Michael   M   90517  1958\n",
      "510812  Michael   M   88528  1954\n",
      "521887  Michael   M   88327  1955\n",
      "591921  Michael   M   86917  1961\n",
      "705996  Michael   M   85302  1970\n",
      "567899  Michael   M   85251  1959\n",
      "691606  Michael   M   85203  1969\n",
      "604159  Michael   M   85034  1962\n",
      "499859  Michael   M   84226  1953\n",
      "579803  Michael   M   84180  1960\n",
      "616446  Michael   M   83782  1963\n",
      "628869  Michael   M   82646  1964\n",
      "665414  Michael   M   82436  1967\n",
      "678156  Michael   M   82008  1968\n",
      "640994  Michael   M   81021  1965\n",
      "653029  Michael   M   79990  1966\n",
      "489105  Michael   M   79049  1952\n",
      "721066  Michael   M   77594  1971\n",
      "        name sex  number  year\n",
      "987  Michael   M     354  1880\n"
     ]
    }
   ],
   "source": [
    "#Highest popularity int the 60'\n",
    "#Funfact: Michael Jackson was born in 1958 in the top years of these name\n",
    "Michael = all_data[all_data[\"name\"] == \"Michael\"]\n",
    "MichaelF = Michael[Michael[\"sex\"] ==\"F\"]\n",
    "MichaelM = Michael[Michael[\"sex\"] == \"M\"]\n",
    "Michael = Michael.sort_values(by=\"number\", ascending=False)\n",
    "print(Michael.head(20))\n",
    "#First use of the name Michael in this dataset\n",
    "Michael_first_use = Michael.sort_values(by=\"year\", ascending=True)\n",
    "print(Michael_first_use.head(1))"
   ]
  },
  {
   "cell_type": "code",
   "execution_count": 21,
   "metadata": {},
   "outputs": [
    {
     "data": {
      "text/plain": [
       "<matplotlib.axes._subplots.AxesSubplot at 0x21895e1f908>"
      ]
     },
     "execution_count": 21,
     "metadata": {},
     "output_type": "execute_result"
    },
    {
     "data": {
      "image/png": "[encoded data removed]",
      "text/plain": [
       "<Figure size 432x288 with 1 Axes>"
      ]
     },
     "metadata": {
      "needs_background": "light"
     },
     "output_type": "display_data"
    }
   ],
   "source": [
    "sns.scatterplot(x=\"year\",y=\"number\", hue = \"sex\", data=MichaelF)\n",
    "sns.scatterplot(x=\"year\",y=\"number\", data=JacobF)"
   ]
  },
  {
   "cell_type": "code",
   "execution_count": 22,
   "metadata": {},
   "outputs": [
    {
     "data": {
      "text/plain": [
       "<matplotlib.axes._subplots.AxesSubplot at 0x21895ea8788>"
      ]
     },
     "execution_count": 22,
     "metadata": {},
     "output_type": "execute_result"
    },
    {
     "data": {
      "image/png": "[encoded data removed]",
      "text/plain": [
       "<Figure size 432x288 with 1 Axes>"
      ]
     },
     "metadata": {
      "needs_background": "light"
     },
     "output_type": "display_data"
    }
   ],
   "source": [
    "sns.scatterplot(x=\"year\",y=\"number\", hue = \"sex\", data=MichaelM)\n",
    "sns.scatterplot(x=\"year\",y=\"number\", data=JacobM)"
   ]
  },
  {
   "cell_type": "code",
   "execution_count": 23,
   "metadata": {},
   "outputs": [
    {
     "name": "stdout",
     "output_type": "stream",
     "text": [
      "[       number\n",
      "name         \n",
      "Jacob  933726,           number\n",
      "name            \n",
      "Michael  4384463]\n"
     ]
    }
   ],
   "source": [
    "#Difference between popularity of both names\n",
    "Jacobsum = Jacob.drop(columns = \"year\")\n",
    "Jacobsum = Jacobsum.groupby(\"name\").sum()\n",
    "Michaelsum = Michael.drop(columns = \"year\")\n",
    "Michaelsum = Michaelsum.groupby(\"name\").sum()\n",
    "print([Jacobsum, Michaelsum])"
   ]
  },
  {
   "cell_type": "code",
   "execution_count": null,
   "metadata": {},
   "outputs": [],
   "source": []
  }
 ],
 "metadata": {
  "kernelspec": {
   "display_name": "Python 3",
   "language": "python",
   "name": "python3"
  }
 },
 "nbformat": 4,
 "nbformat_minor": 4
}
